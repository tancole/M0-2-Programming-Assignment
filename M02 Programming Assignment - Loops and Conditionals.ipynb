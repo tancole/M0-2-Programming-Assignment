{
 "cells": [
  {
   "cell_type": "code",
   "execution_count": 2,
   "id": "8b31be99",
   "metadata": {},
   "outputs": [
    {
     "name": "stdout",
     "output_type": "stream",
     "text": [
      "Guess value is =  3\n",
      "Secret value is =  2\n",
      "too high\n"
     ]
    }
   ],
   "source": [
    "#4-1\n",
    "import random\n",
    "\n",
    "#Setting Variables for Secret and  Guess\n",
    "secret = random.randint(1,10)\n",
    "guess = random.randint(1,10)\n",
    "\n",
    "#outputting the values of guess and secret\n",
    "print(\"Guess value is = \" , guess)\n",
    "print(\"Secret value is = \" , secret)\n",
    "\n",
    "#Loop statements and if,elif, and else conditions\n",
    "if guess < secret: \n",
    "    print(\"too low\")\n",
    "    \n",
    "elif guess > secret:\n",
    "    print(\"too high\")\n",
    "    \n",
    "else:\n",
    "    print(\"just right\")\n"
   ]
  },
  {
   "cell_type": "code",
   "execution_count": 5,
   "id": "b35047eb",
   "metadata": {
    "scrolled": true
   },
   "outputs": [
    {
     "name": "stdout",
     "output_type": "stream",
     "text": [
      "it's a cherry!\n"
     ]
    }
   ],
   "source": [
    "#4-2\n",
    "\n",
    "#establish true/false variables\n",
    "small = True\n",
    "green = False\n",
    "\n",
    "#create if/else statements\n",
    "if small and green:\n",
    "    print(\"it's a pea\")\n",
    "elif small and not green:\n",
    "    print(\"it's a cherry!\")\n",
    "elif not small and green:\n",
    "    print(\"it's a watermelon\")\n",
    "elif not small and not green:\n",
    "    print(\"it's a pumpkin\")"
   ]
  },
  {
   "cell_type": "code",
   "execution_count": 6,
   "id": "a7694006",
   "metadata": {},
   "outputs": [
    {
     "name": "stdout",
     "output_type": "stream",
     "text": [
      "3\n",
      "2\n",
      "1\n",
      "0\n"
     ]
    }
   ],
   "source": [
    "#6-1\n",
    "#establish numbers in list\n",
    "list = [3,2,1,0]\n",
    "#establish for loop\n",
    "for x in list:\n",
    "    print(x)"
   ]
  },
  {
   "cell_type": "code",
   "execution_count": 8,
   "id": "bbd67c7f",
   "metadata": {},
   "outputs": [
    {
     "name": "stdout",
     "output_type": "stream",
     "text": [
      "too low\n",
      "too low\n",
      "too low\n",
      "too low\n",
      "too low\n",
      "too low\n",
      "found it\n"
     ]
    }
   ],
   "source": [
    "#6-2\n",
    "\n",
    "#establish variables\n",
    "guess_me = 7\n",
    "number = 1\n",
    "\n",
    "#create while loop\n",
    "while True:\n",
    "    if number < guess_me:\n",
    "        print(\"too low\")\n",
    "    elif number == guess_me:\n",
    "        print(\"found it\")\n",
    "        break\n",
    "    else:\n",
    "        print(\"oops\")\n",
    "        break\n",
    "    number += 1"
   ]
  },
  {
   "cell_type": "code",
   "execution_count": 9,
   "id": "53ec36a5",
   "metadata": {},
   "outputs": [
    {
     "name": "stdout",
     "output_type": "stream",
     "text": [
      "too low\n",
      "too low\n",
      "too low\n",
      "too low\n",
      "too low\n",
      "found it!\n"
     ]
    }
   ],
   "source": [
    "#6-3\n",
    "\n",
    "#assign value to the variable guess_me\n",
    "guess_me = 5\n",
    "\n",
    "#assign value in the for loop\n",
    "for number in range(10):\n",
    "    if number < guess_me:\n",
    "        print(\"too low\")\n",
    "    elif number == guess_me:\n",
    "        print(\"found it!\")\n",
    "        break\n",
    "    else:\n",
    "        print(\"oops!\")\n",
    "        break\n",
    "\n"
   ]
  },
  {
   "cell_type": "code",
   "execution_count": null,
   "id": "3a89ee6b",
   "metadata": {},
   "outputs": [],
   "source": []
  }
 ],
 "metadata": {
  "kernelspec": {
   "display_name": "Python 3 (ipykernel)",
   "language": "python",
   "name": "python3"
  },
  "language_info": {
   "codemirror_mode": {
    "name": "ipython",
    "version": 3
   },
   "file_extension": ".py",
   "mimetype": "text/x-python",
   "name": "python",
   "nbconvert_exporter": "python",
   "pygments_lexer": "ipython3",
   "version": "3.10.9"
  }
 },
 "nbformat": 4,
 "nbformat_minor": 5
}
